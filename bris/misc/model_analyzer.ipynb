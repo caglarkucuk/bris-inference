{
 "cells": [
  {
   "cell_type": "code",
   "execution_count": null,
   "metadata": {},
   "outputs": [],
   "source": [
    "from omegaconf import OmegaConf\n",
    "\n",
    "from bris.misc.modelblocks import ModelBlocks\n",
    "from bris.checkpoint import Checkpoint\n",
    "from bris.data.datamodule import DataModule\n",
    "from bris.utils import create_config"
   ]
  },
  {
   "cell_type": "markdown",
   "metadata": {},
   "source": [
    "# Use your desired config"
   ]
  },
  {
   "cell_type": "code",
   "execution_count": null,
   "metadata": {},
   "outputs": [],
   "source": [
    "MYCONFIG = "
   ]
  },
  {
   "cell_type": "markdown",
   "metadata": {},
   "source": [
    "# Loading config and initialiazing the checkpoint class for metadata"
   ]
  },
  {
   "cell_type": "code",
   "execution_count": null,
   "metadata": {},
   "outputs": [],
   "source": [
    "try:\n",
    "    config = OmegaConf.load(MYCONFIG)\n",
    "except Exception as e:\n",
    "    raise e\n",
    "checkpoint = Checkpoint(config.checkpoint_path)\n"
   ]
  },
  {
   "cell_type": "markdown",
   "metadata": {},
   "source": [
    "# Initializing the datamodule and ModelBlocks"
   ]
  },
  {
   "cell_type": "code",
   "execution_count": null,
   "metadata": {},
   "outputs": [],
   "source": [
    "datamodule = DataModule(\n",
    "        config=config,\n",
    "        checkpoint_object=checkpoint,\n",
    "    )\n",
    "\n",
    "modelblocks = ModelBlocks(path=config.checkpoint_path)"
   ]
  },
  {
   "cell_type": "markdown",
   "metadata": {},
   "source": [
    "# Analyze parts of your model seperately :) !"
   ]
  },
  {
   "cell_type": "code",
   "execution_count": null,
   "metadata": {},
   "outputs": [],
   "source": []
  }
 ],
 "metadata": {
  "language_info": {
   "name": "python"
  }
 },
 "nbformat": 4,
 "nbformat_minor": 2
}
